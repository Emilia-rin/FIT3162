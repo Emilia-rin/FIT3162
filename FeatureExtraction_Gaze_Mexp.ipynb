{
 "cells": [
  {
   "cell_type": "markdown",
   "metadata": {},
   "source": [
    "## This module extracts Gaze and Micro-Expression features using OpenFace\n",
    "\n",
    "Static gaze features and facial action features are extracted using OpenFace\n",
    "\n",
    "Import necessary Packages"
   ]
  },
  {
   "cell_type": "code",
   "execution_count": 1,
   "metadata": {},
   "outputs": [],
   "source": [
    "import os\n",
    "import sys\n",
    "import glob\n",
    "import csv\n",
    "import numpy as np\n",
    "import pandas as pd\n",
    "import matplotlib.pyplot as plt\n",
    "from os import walk\n",
    "from os.path import splitext\n",
    "from os.path import join"
   ]
  },
  {
   "cell_type": "markdown",
   "metadata": {},
   "source": [
    "### Count the number of videos from Trial dataset and add them to a list"
   ]
  },
  {
   "cell_type": "code",
   "execution_count": 2,
   "metadata": {},
   "outputs": [
    {
     "name": "stdout",
     "output_type": "stream",
     "text": [
      "number of videos from trial data\n",
      "0\n"
     ]
    }
   ],
   "source": [
    "videolist = list()\n",
    "#Execute from commandline\n",
    "#dir_list contains path of all files which contains the audio \n",
    "\n",
    "dir_list=[\"/Users/jingweiong/Downloads/Real-life_Deception_Detection_2016/Clips/Deceptive\"\n",
    "          ,\"/Users/jingweiong/Downloads/Real-life_Deception_Detection_2016/Clips/Truthful\"]\n",
    "count_trial=0\n",
    "for dir in dir_list:\n",
    "    for filename in glob.glob(os.path.join(dir, '*.mp4')):\n",
    "        videolist.append(filename)\n",
    "        count_trial +=1\n",
    "print(\"number of videos from trial data\")\n",
    "print(count_trial)"
   ]
  },
  {
   "cell_type": "markdown",
   "metadata": {},
   "source": [
    "### Count the number of videos from Trial dataset and add them to a list"
   ]
  },
  {
   "cell_type": "code",
   "execution_count": 3,
   "metadata": {},
   "outputs": [
    {
     "name": "stdout",
     "output_type": "stream",
     "text": [
      "converted wav files counts are:\n",
      "Trail = 0\n"
     ]
    }
   ],
   "source": [
    "cmd1 =\"/Users/jingweiong/openFace/OpenFace/build/bin/\"\n",
    "os.system(cmd1)\n",
    "dict_input_output={}\n",
    "output_filename_list=list()\n",
    "\n",
    "gaze_trial=0\n",
    "for filename in videolist:\n",
    "    output_filename=\"\"\n",
    "    ip=filename\n",
    "    print(ip)\n",
    "    if \"Real-life_Deception_Detection_2016\" in filename:\n",
    "        cmd2=\"\"\n",
    "        x=os.path.split(filename)[0]\n",
    "        x1=os.path.split(filename)[-1]\n",
    "        y=os.path.split(x)[0]\n",
    "        y1=os.path.split(x)[-1]\n",
    "        output_filename=\"Gaze_reallifedeception_\"+x1\n",
    "        output_filename=output_filename.replace(\".mp4\",\".csv\")\n",
    "        op = \"/Users/jingweiong/Downloads/Deception_detection_output/\"+output_filename\n",
    "        cmd2=\"FeatureExtraction -f \" + ip + \" -of \" + op + \" -gaze\"\n",
    "        o1=os.system(cmd1 + cmd2)\n",
    "        if(o1==0):\n",
    "            gaze_trial +=1\n",
    "            dict_input_output[filename]=op\n",
    "            output_filename_list.append(op)\n",
    "print(\"converted wav files counts are:\")\n",
    "\n",
    "print(\"Trail = \"+str(gaze_trial))"
   ]
  },
  {
   "cell_type": "markdown",
   "metadata": {},
   "source": [
    "### Generate a .csv file with annotations and file names for gaze data"
   ]
  },
  {
   "cell_type": "code",
   "execution_count": 4,
   "metadata": {},
   "outputs": [
    {
     "ename": "ValueError",
     "evalue": "No objects to concatenate",
     "output_type": "error",
     "traceback": [
      "\u001b[1;31m---------------------------------------------------------------------------\u001b[0m",
      "\u001b[1;31mValueError\u001b[0m                                Traceback (most recent call last)",
      "Cell \u001b[1;32mIn[4], line 19\u001b[0m\n\u001b[0;32m     16\u001b[0m     data_frames\u001b[38;5;241m.\u001b[39mappend(df_row)\n\u001b[0;32m     18\u001b[0m \u001b[38;5;66;03m# Concatenate all DataFrames into a single DataFrame\u001b[39;00m\n\u001b[1;32m---> 19\u001b[0m df_input_output \u001b[38;5;241m=\u001b[39m \u001b[43mpd\u001b[49m\u001b[38;5;241;43m.\u001b[39;49m\u001b[43mconcat\u001b[49m\u001b[43m(\u001b[49m\u001b[43mdata_frames\u001b[49m\u001b[43m,\u001b[49m\u001b[43m \u001b[49m\u001b[43mignore_index\u001b[49m\u001b[38;5;241;43m=\u001b[39;49m\u001b[38;5;28;43;01mTrue\u001b[39;49;00m\u001b[43m)\u001b[49m\n\u001b[0;32m     21\u001b[0m \u001b[38;5;28mprint\u001b[39m(\u001b[38;5;28mlen\u001b[39m(df_input_output\u001b[38;5;241m.\u001b[39mindex))\n\u001b[0;32m     22\u001b[0m df_input_output\u001b[38;5;241m.\u001b[39mto_csv(\u001b[38;5;124m\"\u001b[39m\u001b[38;5;124m/Users/jingweiong/Downloads/Deception_detection_output/Annotation_gaze_features.csv\u001b[39m\u001b[38;5;124m\"\u001b[39m,index\u001b[38;5;241m=\u001b[39m\u001b[38;5;28;01mFalse\u001b[39;00m) \n",
      "File \u001b[1;32mc:\\Users\\jayaw\\AppData\\Local\\Programs\\Python\\Python311\\Lib\\site-packages\\pandas\\core\\reshape\\concat.py:380\u001b[0m, in \u001b[0;36mconcat\u001b[1;34m(objs, axis, join, ignore_index, keys, levels, names, verify_integrity, sort, copy)\u001b[0m\n\u001b[0;32m    377\u001b[0m \u001b[38;5;28;01melif\u001b[39;00m copy \u001b[38;5;129;01mand\u001b[39;00m using_copy_on_write():\n\u001b[0;32m    378\u001b[0m     copy \u001b[38;5;241m=\u001b[39m \u001b[38;5;28;01mFalse\u001b[39;00m\n\u001b[1;32m--> 380\u001b[0m op \u001b[38;5;241m=\u001b[39m \u001b[43m_Concatenator\u001b[49m\u001b[43m(\u001b[49m\n\u001b[0;32m    381\u001b[0m \u001b[43m    \u001b[49m\u001b[43mobjs\u001b[49m\u001b[43m,\u001b[49m\n\u001b[0;32m    382\u001b[0m \u001b[43m    \u001b[49m\u001b[43maxis\u001b[49m\u001b[38;5;241;43m=\u001b[39;49m\u001b[43maxis\u001b[49m\u001b[43m,\u001b[49m\n\u001b[0;32m    383\u001b[0m \u001b[43m    \u001b[49m\u001b[43mignore_index\u001b[49m\u001b[38;5;241;43m=\u001b[39;49m\u001b[43mignore_index\u001b[49m\u001b[43m,\u001b[49m\n\u001b[0;32m    384\u001b[0m \u001b[43m    \u001b[49m\u001b[43mjoin\u001b[49m\u001b[38;5;241;43m=\u001b[39;49m\u001b[43mjoin\u001b[49m\u001b[43m,\u001b[49m\n\u001b[0;32m    385\u001b[0m \u001b[43m    \u001b[49m\u001b[43mkeys\u001b[49m\u001b[38;5;241;43m=\u001b[39;49m\u001b[43mkeys\u001b[49m\u001b[43m,\u001b[49m\n\u001b[0;32m    386\u001b[0m \u001b[43m    \u001b[49m\u001b[43mlevels\u001b[49m\u001b[38;5;241;43m=\u001b[39;49m\u001b[43mlevels\u001b[49m\u001b[43m,\u001b[49m\n\u001b[0;32m    387\u001b[0m \u001b[43m    \u001b[49m\u001b[43mnames\u001b[49m\u001b[38;5;241;43m=\u001b[39;49m\u001b[43mnames\u001b[49m\u001b[43m,\u001b[49m\n\u001b[0;32m    388\u001b[0m \u001b[43m    \u001b[49m\u001b[43mverify_integrity\u001b[49m\u001b[38;5;241;43m=\u001b[39;49m\u001b[43mverify_integrity\u001b[49m\u001b[43m,\u001b[49m\n\u001b[0;32m    389\u001b[0m \u001b[43m    \u001b[49m\u001b[43mcopy\u001b[49m\u001b[38;5;241;43m=\u001b[39;49m\u001b[43mcopy\u001b[49m\u001b[43m,\u001b[49m\n\u001b[0;32m    390\u001b[0m \u001b[43m    \u001b[49m\u001b[43msort\u001b[49m\u001b[38;5;241;43m=\u001b[39;49m\u001b[43msort\u001b[49m\u001b[43m,\u001b[49m\n\u001b[0;32m    391\u001b[0m \u001b[43m\u001b[49m\u001b[43m)\u001b[49m\n\u001b[0;32m    393\u001b[0m \u001b[38;5;28;01mreturn\u001b[39;00m op\u001b[38;5;241m.\u001b[39mget_result()\n",
      "File \u001b[1;32mc:\\Users\\jayaw\\AppData\\Local\\Programs\\Python\\Python311\\Lib\\site-packages\\pandas\\core\\reshape\\concat.py:443\u001b[0m, in \u001b[0;36m_Concatenator.__init__\u001b[1;34m(self, objs, axis, join, keys, levels, names, ignore_index, verify_integrity, copy, sort)\u001b[0m\n\u001b[0;32m    440\u001b[0m \u001b[38;5;28mself\u001b[39m\u001b[38;5;241m.\u001b[39mverify_integrity \u001b[38;5;241m=\u001b[39m verify_integrity\n\u001b[0;32m    441\u001b[0m \u001b[38;5;28mself\u001b[39m\u001b[38;5;241m.\u001b[39mcopy \u001b[38;5;241m=\u001b[39m copy\n\u001b[1;32m--> 443\u001b[0m objs, keys \u001b[38;5;241m=\u001b[39m \u001b[38;5;28;43mself\u001b[39;49m\u001b[38;5;241;43m.\u001b[39;49m\u001b[43m_clean_keys_and_objs\u001b[49m\u001b[43m(\u001b[49m\u001b[43mobjs\u001b[49m\u001b[43m,\u001b[49m\u001b[43m \u001b[49m\u001b[43mkeys\u001b[49m\u001b[43m)\u001b[49m\n\u001b[0;32m    445\u001b[0m \u001b[38;5;66;03m# figure out what our result ndim is going to be\u001b[39;00m\n\u001b[0;32m    446\u001b[0m ndims \u001b[38;5;241m=\u001b[39m \u001b[38;5;28mself\u001b[39m\u001b[38;5;241m.\u001b[39m_get_ndims(objs)\n",
      "File \u001b[1;32mc:\\Users\\jayaw\\AppData\\Local\\Programs\\Python\\Python311\\Lib\\site-packages\\pandas\\core\\reshape\\concat.py:505\u001b[0m, in \u001b[0;36m_Concatenator._clean_keys_and_objs\u001b[1;34m(self, objs, keys)\u001b[0m\n\u001b[0;32m    502\u001b[0m     objs_list \u001b[38;5;241m=\u001b[39m \u001b[38;5;28mlist\u001b[39m(objs)\n\u001b[0;32m    504\u001b[0m \u001b[38;5;28;01mif\u001b[39;00m \u001b[38;5;28mlen\u001b[39m(objs_list) \u001b[38;5;241m==\u001b[39m \u001b[38;5;241m0\u001b[39m:\n\u001b[1;32m--> 505\u001b[0m     \u001b[38;5;28;01mraise\u001b[39;00m \u001b[38;5;167;01mValueError\u001b[39;00m(\u001b[38;5;124m\"\u001b[39m\u001b[38;5;124mNo objects to concatenate\u001b[39m\u001b[38;5;124m\"\u001b[39m)\n\u001b[0;32m    507\u001b[0m \u001b[38;5;28;01mif\u001b[39;00m keys \u001b[38;5;129;01mis\u001b[39;00m \u001b[38;5;28;01mNone\u001b[39;00m:\n\u001b[0;32m    508\u001b[0m     objs_list \u001b[38;5;241m=\u001b[39m \u001b[38;5;28mlist\u001b[39m(com\u001b[38;5;241m.\u001b[39mnot_none(\u001b[38;5;241m*\u001b[39mobjs_list))\n",
      "\u001b[1;31mValueError\u001b[0m: No objects to concatenate"
     ]
    }
   ],
   "source": [
    "head = [\"Path_for_mp4_video\", \"csv_file_name\", \"csv_file_name_path_gaze_data\", \"label\"]\n",
    "data_frames = []\n",
    "\n",
    "for key, value in dict_input_output.items():\n",
    "    csv_file_name = os.path.basename(value)\n",
    "    label = \"Deceptive\" if \"reallifedeception\" in value and \"lie\" in value else \"Truthful\"\n",
    "    \n",
    "    # Create a DataFrame for each row\n",
    "    data = {\n",
    "        'Path_for_mp4_video': [key],\n",
    "        'csv_file_name': [csv_file_name],\n",
    "        'csv_file_name_path_gaze_data': [value],\n",
    "        'label': [label]\n",
    "    }\n",
    "    df_row = pd.DataFrame(data)\n",
    "    data_frames.append(df_row)\n",
    "\n",
    "# Concatenate all DataFrames into a single DataFrame\n",
    "df_input_output = pd.concat(data_frames, ignore_index=True)\n",
    "\n",
    "print(len(df_input_output.index))\n",
    "df_input_output.to_csv(\"/Users/jingweiong/Downloads/Deception_detection_output/Annotation_gaze_features.csv\",index=False) "
   ]
  },
  {
   "cell_type": "markdown",
   "metadata": {},
   "source": [
    "### Finally Annotate the gaze data extracted using OpenFace with the csv file generated in the previous step"
   ]
  },
  {
   "cell_type": "code",
   "execution_count": null,
   "metadata": {},
   "outputs": [],
   "source": [
    "df_readannotation=pd.read_csv(\"/Users/jingweiong/Downloads/Deception_detection_output/Annotation_gaze_features.csv\")\n",
    "dir=\"/Users/jingweiong/Downloads/Deception_detection_output\"\n",
    "for filename in glob.glob(os.path.join(dir, '*.csv')):\n",
    "    file=os.path.basename(filename)\n",
    "    df_readindividual=pd.read_csv(filename)\n",
    "    for index, row in df_readannotation.iterrows():\n",
    "            if(row[\"csv_file_name\"]==file):\n",
    "                val=row[\"label\"]\n",
    "                outputpath=row[\"csv_file_name_path_gaze_data\"]\n",
    "    df_readindividual[\"label\"]=val\n",
    "    df_readindividual.to_csv(outputpath)"
   ]
  },
  {
   "cell_type": "markdown",
   "metadata": {},
   "source": [
    "### Extract Head_pose and facial action(Micro-expression) Features from Openface and store in a folder"
   ]
  },
  {
   "cell_type": "code",
   "execution_count": null,
   "metadata": {},
   "outputs": [],
   "source": [
    "cmd1 =\"/Users/jingweiong/openFace/OpenFace/build/bin/\"\n",
    "os.system(cmd1)\n",
    "dict_input_output={}\n",
    "output_filename_list=list()\n",
    "\n",
    "Mexp_trial=0\n",
    "for filename in videolist:\n",
    "    output_filename=\"\"\n",
    "    ip=filename\n",
    "    if \"Real-life_Deception_Detection_2016\" in filename:\n",
    "        cmd2=\"\"\n",
    "        x=os.path.split(filename)[0]\n",
    "        x1=os.path.split(filename)[-1]\n",
    "        y=os.path.split(x)[0]\n",
    "        y1=os.path.split(x)[-1]\n",
    "        output_filename=\"Mexp_reallifedeception_\"+x1\n",
    "        output_filename=output_filename.replace(\".mp4\",\".csv\")\n",
    "        op = \"/Users/jingweiong/Downloads/Deception_detection_output_mexp/\"+output_filename\n",
    "        cmd2=\"FeatureExtraction -f \" + ip + \" -of \" + op + \" -pose -aus\"\n",
    "        o1=os.system(cmd1 + cmd2)\n",
    "        if(o1==0):\n",
    "            Mexp_trial +=1\n",
    "            dict_input_output[filename]=op\n",
    "            output_filename_list.append(op)\n",
    "print(\"converted wav files counts are:\")\n",
    "\n",
    "print(\"Trail = \"+str(Mexp_trial))"
   ]
  },
  {
   "cell_type": "markdown",
   "metadata": {},
   "source": [
    "### Generate a csv file with annotations and file names for Micro-Expression data"
   ]
  },
  {
   "cell_type": "code",
   "execution_count": null,
   "metadata": {},
   "outputs": [],
   "source": [
    "head = [\"Path_for_mp4_video\", \"csv_file_name\", \"csv_file_name_path_gaze_data\", \"label\"]\n",
    "data_frames = []\n",
    "\n",
    "for key, value in dict_input_output.items():\n",
    "    csv_file_name = os.path.basename(value)\n",
    "    label = \"Deceptive\" if \"reallifedeception\" in value and \"lie\" in value else \"Truthful\"\n",
    "    \n",
    "    # Create a DataFrame for each row\n",
    "    data = {\n",
    "        'Path_for_mp4_video': [key],\n",
    "        'csv_file_name': [csv_file_name],\n",
    "        'csv_file_name_path_gaze_data': [value],\n",
    "        'label': [label]\n",
    "    }\n",
    "    df_row = pd.DataFrame(data)\n",
    "    data_frames.append(df_row)\n",
    "\n",
    "# Concatenate all DataFrames into a single DataFrame\n",
    "df_input_output = pd.concat(data_frames, ignore_index=True)\n",
    "\n",
    "print(len(df_input_output.index))\n",
    "df_input_output.to_csv(\"/Users/jingweiong/Downloads/Deception_detection_output/Annotation_mexp_features.csv\",index=False) "
   ]
  },
  {
   "cell_type": "markdown",
   "metadata": {},
   "source": [
    "### Finally Annotate the Micro-Expression data extracted using Openface with the csv file generated in the previous step"
   ]
  },
  {
   "cell_type": "code",
   "execution_count": null,
   "metadata": {},
   "outputs": [],
   "source": [
    "df_readannotation=pd.read_csv(\"D:/hci lab/Mexp_Features/Annotation_mexp_features.csv\")\n",
    "dir=\"D:/hci lab/Mexp_Features\"\n",
    "for filename in glob.glob(os.path.join(dir, '*.csv')):\n",
    "    file=os.path.basename(filename)\n",
    "    df_readindividual=pd.read_csv(filename)\n",
    "    for index, row in df_readannotation.iterrows():\n",
    "            if(row[\"csv_file_name\"]==file):\n",
    "                val=row[\"label\"]\n",
    "                outputpath=row[\"csv_file_name_path_mexp_data\"]\n",
    "    df_readindividual[\"label\"]=val\n",
    "    df_readindividual.to_csv(outputpath)"
   ]
  }
 ],
 "metadata": {
  "kernelspec": {
   "display_name": "Python 3",
   "language": "python",
   "name": "python3"
  },
  "language_info": {
   "codemirror_mode": {
    "name": "ipython",
    "version": 3
   },
   "file_extension": ".py",
   "mimetype": "text/x-python",
   "name": "python",
   "nbconvert_exporter": "python",
   "pygments_lexer": "ipython3",
   "version": "3.11.5"
  }
 },
 "nbformat": 4,
 "nbformat_minor": 2
}
