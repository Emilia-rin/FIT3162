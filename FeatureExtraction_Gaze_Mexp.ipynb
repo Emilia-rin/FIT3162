{
 "cells": [
  {
   "cell_type": "markdown",
   "metadata": {},
   "source": [
    "## This module extracts Gaze and Micro-Expression features using OpenFace\n",
    "\n",
    "Static gaze features and facial action features are extracted using OpenFace\n",
    "\n",
    "Import necessary Packages"
   ]
  },
  {
   "cell_type": "code",
   "execution_count": null,
   "metadata": {},
   "outputs": [],
   "source": [
    "import os\n",
    "import sys\n",
    "import glob\n",
    "import csv\n",
    "import numpy as np\n",
    "import pandas as pd\n",
    "import matplotlib.pyplot as plt\n",
    "from os import walk\n",
    "from os.path import splitext\n",
    "from os.path import join"
   ]
  },
  {
   "cell_type": "markdown",
   "metadata": {},
   "source": [
    "### Count the number of videos from Trial dataset and add them to a list"
   ]
  },
  {
   "cell_type": "code",
   "execution_count": null,
   "metadata": {},
   "outputs": [],
   "source": [
    "videolist = list()\n",
    "#Execute from commandline\n",
    "#dir_list contains path of all files which contains the audio \n",
    "\n",
    "dir_list=[\"/Users/jingweiong/Downloads/Real-life_Deception_Detection_2016/Clips/Deceptive\"\n",
    "          ,\"/Users/jingweiong/Downloads/Real-life_Deception_Detection_2016/Clips/Truthful\"]\n",
    "count_trial=0\n",
    "for dir in dir_list:\n",
    "    for filename in glob.glob(os.path.join(dir, '*.mp4')):\n",
    "        videolist.append(filename)\n",
    "        count_trial +=1\n",
    "print(\"number of videos from trial data\")\n",
    "print(count_trial)"
   ]
  },
  {
   "cell_type": "markdown",
   "metadata": {},
   "source": [
    "### Count the number of videos from Trial dataset and add them to a list"
   ]
  },
  {
   "cell_type": "code",
   "execution_count": null,
   "metadata": {},
   "outputs": [],
   "source": [
    "cmd1 =\"/Users/jingweiong/openFace/OpenFace/build/bin/\"\n",
    "os.system(cmd1)\n",
    "dict_input_output={}\n",
    "output_filename_list=list()\n",
    "\n",
    "gaze_trial=0\n",
    "for filename in videolist:\n",
    "    output_filename=\"\"\n",
    "    ip=filename\n",
    "    print(ip)\n",
    "    if \"Real-life_Deception_Detection_2016\" in filename:\n",
    "        cmd2=\"\"\n",
    "        x=os.path.split(filename)[0]\n",
    "        x1=os.path.split(filename)[-1]\n",
    "        y=os.path.split(x)[0]\n",
    "        y1=os.path.split(x)[-1]\n",
    "        output_filename=\"Gaze_reallifedeception_\"+x1\n",
    "        output_filename=output_filename.replace(\".mp4\",\".csv\")\n",
    "        op = \"/Users/jingweiong/Downloads/Deception_detection_output/\"+output_filename\n",
    "        cmd2=\"FeatureExtraction -f \" + ip + \" -of \" + op + \" -gaze\"\n",
    "        o1=os.system(cmd1 + cmd2)\n",
    "        if(o1==0):\n",
    "            gaze_trial +=1\n",
    "            dict_input_output[filename]=op\n",
    "            output_filename_list.append(op)\n",
    "print(\"converted wav files counts are:\")\n",
    "\n",
    "print(\"Trail = \"+str(gaze_trial))"
   ]
  },
  {
   "cell_type": "markdown",
   "metadata": {},
   "source": [
    "### Generate a .csv file with annotations and file names for gaze data"
   ]
  },
  {
   "cell_type": "code",
   "execution_count": null,
   "metadata": {},
   "outputs": [],
   "source": [
    "head = [\"Path_for_mp4_video\", \"csv_file_name\", \"csv_file_name_path_gaze_data\", \"label\"]\n",
    "data_frames = []\n",
    "\n",
    "for key, value in dict_input_output.items():\n",
    "    csv_file_name = os.path.basename(value)\n",
    "    label = \"Deceptive\" if \"reallifedeception\" in value and \"lie\" in value else \"Truthful\"\n",
    "    \n",
    "    # Create a DataFrame for each row\n",
    "    data = {\n",
    "        'Path_for_mp4_video': [key],\n",
    "        'csv_file_name': [csv_file_name],\n",
    "        'csv_file_name_path_gaze_data': [value],\n",
    "        'label': [label]\n",
    "    }\n",
    "    df_row = pd.DataFrame(data)\n",
    "    data_frames.append(df_row)\n",
    "\n",
    "# Concatenate all DataFrames into a single DataFrame\n",
    "df_input_output = pd.concat(data_frames, ignore_index=True)\n",
    "\n",
    "print(len(df_input_output.index))\n",
    "df_input_output.to_csv(\"/Users/jingweiong/Downloads/Deception_detection_output/Annotation_gaze_features.csv\",index=False) "
   ]
  },
  {
   "cell_type": "markdown",
   "metadata": {},
   "source": [
    "### Finally Annotate the gaze data extracted using OpenFace with the csv file generated in the previous step"
   ]
  },
  {
   "cell_type": "code",
   "execution_count": null,
   "metadata": {},
   "outputs": [],
   "source": [
    "df_readannotation=pd.read_csv(\"/Users/jingweiong/Downloads/Deception_detection_output/Annotation_gaze_features.csv\")\n",
    "dir=\"/Users/jingweiong/Downloads/Deception_detection_output\"\n",
    "for filename in glob.glob(os.path.join(dir, '*.csv')):\n",
    "    file=os.path.basename(filename)\n",
    "    df_readindividual=pd.read_csv(filename)\n",
    "    for index, row in df_readannotation.iterrows():\n",
    "            if(row[\"csv_file_name\"]==file):\n",
    "                val=row[\"label\"]\n",
    "                outputpath=row[\"csv_file_name_path_gaze_data\"]\n",
    "    df_readindividual[\"label\"]=val\n",
    "    df_readindividual.to_csv(outputpath)"
   ]
  },
  {
   "cell_type": "markdown",
   "metadata": {},
   "source": [
    "### Extract Head_pose and facial action(Micro-expression) Features from Openface and store in a folder"
   ]
  },
  {
   "cell_type": "code",
   "execution_count": null,
   "metadata": {},
   "outputs": [],
   "source": [
    "cmd1 =\"/Users/jingweiong/openFace/OpenFace/build/bin/\"\n",
    "os.system(cmd1)\n",
    "dict_input_output={}\n",
    "output_filename_list=list()\n",
    "\n",
    "Mexp_trial=0\n",
    "for filename in videolist:\n",
    "    output_filename=\"\"\n",
    "    ip=filename\n",
    "    if \"Real-life_Deception_Detection_2016\" in filename:\n",
    "        cmd2=\"\"\n",
    "        x=os.path.split(filename)[0]\n",
    "        x1=os.path.split(filename)[-1]\n",
    "        y=os.path.split(x)[0]\n",
    "        y1=os.path.split(x)[-1]\n",
    "        output_filename=\"Mexp_reallifedeception_\"+x1\n",
    "        output_filename=output_filename.replace(\".mp4\",\".csv\")\n",
    "        op = \"/Users/jingweiong/Downloads/Deception_detection_output_mexp/\"+output_filename\n",
    "        cmd2=\"FeatureExtraction -f \" + ip + \" -of \" + op + \" -pose -aus\"\n",
    "        o1=os.system(cmd1 + cmd2)\n",
    "        if(o1==0):\n",
    "            Mexp_trial +=1\n",
    "            dict_input_output[filename]=op\n",
    "            output_filename_list.append(op)\n",
    "print(\"converted wav files counts are:\")\n",
    "\n",
    "print(\"Trail = \"+str(Mexp_trial))"
   ]
  },
  {
   "cell_type": "markdown",
   "metadata": {},
   "source": [
    "### Generate a csv file with annotations and file names for Micro-Expression data"
   ]
  },
  {
   "cell_type": "code",
   "execution_count": null,
   "metadata": {},
   "outputs": [],
   "source": [
    "head = [\"Path_for_mp4_video\", \"csv_file_name\", \"csv_file_name_path_gaze_data\", \"label\"]\n",
    "data_frames = []\n",
    "\n",
    "for key, value in dict_input_output.items():\n",
    "    csv_file_name = os.path.basename(value)\n",
    "    label = \"Deceptive\" if \"reallifedeception\" in value and \"lie\" in value else \"Truthful\"\n",
    "    \n",
    "    # Create a DataFrame for each row\n",
    "    data = {\n",
    "        'Path_for_mp4_video': [key],\n",
    "        'csv_file_name': [csv_file_name],\n",
    "        'csv_file_name_path_gaze_data': [value],\n",
    "        'label': [label]\n",
    "    }\n",
    "    df_row = pd.DataFrame(data)\n",
    "    data_frames.append(df_row)\n",
    "\n",
    "# Concatenate all DataFrames into a single DataFrame\n",
    "df_input_output = pd.concat(data_frames, ignore_index=True)\n",
    "\n",
    "print(len(df_input_output.index))\n",
    "df_input_output.to_csv(\"/Users/jingweiong/Downloads/Deception_detection_output/Annotation_mexp_features.csv\",index=False) "
   ]
  },
  {
   "cell_type": "markdown",
   "metadata": {},
   "source": [
    "### Finally Annotate the Micro-Expression data extracted using Openface with the csv file generated in the previous step"
   ]
  },
  {
   "cell_type": "code",
   "execution_count": null,
   "metadata": {},
   "outputs": [],
   "source": [
    "df_readannotation=pd.read_csv(\"D:/hci lab/Mexp_Features/Annotation_mexp_features.csv\")\n",
    "dir=\"D:/hci lab/Mexp_Features\"\n",
    "for filename in glob.glob(os.path.join(dir, '*.csv')):\n",
    "    file=os.path.basename(filename)\n",
    "    df_readindividual=pd.read_csv(filename)\n",
    "    for index, row in df_readannotation.iterrows():\n",
    "            if(row[\"csv_file_name\"]==file):\n",
    "                val=row[\"label\"]\n",
    "                outputpath=row[\"csv_file_name_path_mexp_data\"]\n",
    "    df_readindividual[\"label\"]=val\n",
    "    df_readindividual.to_csv(outputpath)"
   ]
  }
 ],
 "metadata": {
  "kernelspec": {
   "display_name": "Python 3",
   "language": "python",
   "name": "python3"
  },
  "language_info": {
   "name": "python",
   "version": "3.11.1"
  }
 },
 "nbformat": 4,
 "nbformat_minor": 2
}
